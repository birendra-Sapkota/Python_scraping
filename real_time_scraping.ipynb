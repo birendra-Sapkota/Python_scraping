{
 "cells": [
  {
   "cell_type": "code",
   "execution_count": null,
   "metadata": {},
   "outputs": [],
   "source": [
    "from bs4 import BeautifulSoup\n",
    "import requests\n",
    "\n",
    "# ----------------------------finding last page-------------------\n",
    "url_num = BeautifulSoup('http://www.nepalstock.com/main/floorsheet/index/0/','html.parser')\n",
    "response_num = requests.get(url_num)\n",
    "data_num = response_num.text\n",
    "soup_num = BeautifulSoup(data_num,'lxml')\n",
    "\n",
    "tags_num = soup_num.table\n",
    "t = tags_num.find_all(title=\"Last Page\")\n",
    "\n",
    "p = []\n",
    "for x in t:\n",
    "    p.append(str(x))\n",
    "    \n",
    "str1=\"\"\n",
    "for ele in p:  \n",
    "    str1 += ele   \n",
    "l = str1.split(\" \")\n",
    "link= str(l[1])\n",
    "link_li=link.split(\"/\")\n",
    "num= link_li[6]\n",
    "f_num=int(num)\n",
    "print(\"total fetched page ===\",f_num)\n",
    "\n",
    "\n",
    "# ------------------------------end of finding last page ------------------------\n",
    "# ------------------------------Scraping And writing in csv file ------------------------\n",
    "flag= 0\n",
    "with open('stockmarketdata.csv','w') as csvFile:\n",
    "print(\"Under scraping....\")\n",
    "\n",
    "    for i in range(f_num+1):\n",
    "        \n",
    "        url = BeautifulSoup('http://www.nepalstock.com/main/floorsheet/index/'+str(i)+'/','html.parser')\n",
    "\n",
    "        response = requests.get(url)\n",
    "        data = response.text\n",
    "        soup = BeautifulSoup(data,'lxml')\n",
    "\n",
    "        tags = soup.table\n",
    "        tag = tags.find_all('tr')\n",
    "\n",
    "        x = []\n",
    "        for t in tag:\n",
    "            x.append(t.get_text())\n",
    "#         print(x)\n",
    "\n",
    "        y =[]\n",
    "        for l in x:\n",
    "            list1 = l.split('\\n')\n",
    "            list2 = list1[3:len(list1)-2]\n",
    "            y.append(list2)\n",
    "        # print(y)\n",
    "        if flag==0:\n",
    "            y =y[1:-3]\n",
    "            flag=1\n",
    "        elif flag==1:\n",
    "            y =y[2:-3]\n",
    "            \n",
    "       \n",
    "        import csv\n",
    "        xlen = len(y)\n",
    "        # with open('stockmarketdata.csv','w') as csvFile:\n",
    "        for i in range(xlen):\n",
    "            writer = csv.writer(csvFile)\n",
    "            writer.writerow(y[i])\n",
    "csvFile.close()\n",
    "print(\"Scraping Successful Completed!!\")\n",
    "\n",
    "# ------------------Scraping Completed---------------------------------\n",
    "# -----------------------Data Visualizing-----------------------------\n",
    "\n",
    "\n"
   ]
  },
  {
   "cell_type": "code",
   "execution_count": 13,
   "metadata": {},
   "outputs": [
    {
     "name": "stdout",
     "output_type": "stream",
     "text": [
      "11962\n",
      "[145.98611111111111, 202.36111111111111, 786.6086956521739, 811.4615384615385, 414.0365853658537, 127.92857142857143, 316.8421052631579, 261.0, 215.48837209302326, 400.93480176211455, 892.6774193548387, 762.2, 192.0, 425.5111111111111, 87.94117647058823, 348.97058823529414, 200.55, 878.2763157894736, 556.3333333333334, 369.0059523809524, 1233.3214285714287, 356.76785714285717, 183.55769230769232, 283.4769230769231, 102.73913043478261, 570.9473684210526, 70.21428571428571, 605.25, 224.36046511627907, 344.9714285714286, 574.8675213675214, 187.8181818181818, 1379.111111111111, 330.23809523809524, 8.780000000000001, 638.6774193548387, 1605.76, 752.125, 856.5833333333334, 184.82857142857142, 694.6, 1213.6, 289.625, 446.72222222222223, 450.92452830188677, 312.53125, 402.64516129032256, 8390.57142857143, 133.0, 310.7647058823529, 970.55, 406.21875, 135.03571428571428, 166.77777777777777, 607.6, 178.85416666666666, 331.7037037037037, 216.95833333333334, 1737.2727272727273, 414.64285714285717, 164.58, 404.2063492063492, 313.7216494845361, 273.46153846153845, 188.06896551724137, 403.7692307692308, 132.36170212765958, 135.75438596491227, 188.89655172413794, 410.125, 512.7142857142857, 590.6111111111111, 278.2068965517241, 600.6, 457.82608695652175, 821.1428571428571, 180.5909090909091, 284.7916666666667, 197.54761904761904, 275.9166666666667, 158.5, 530.875, 231.4125, 158.03703703703704, 133.8, 71.82352941176471, 556.875, 534.0, 111.18181818181819, 356.26666666666665, 289.0, 572.4, 170.4625550660793, 429.625, 465.7916666666667, 58.142857142857146, 537.304347826087, 7.35, 114.16666666666667, 96.5, 564.4285714285714, 133.95454545454547, 1236.5, 235.975, 492.8333333333333, 107.78571428571429, 540.75, 116.42857142857143, 606.421052631579, 215.4814814814815, 8.9475, 107.28571428571429, 60.142857142857146, 141.0, 83.56521739130434, 140.57142857142858, 97.6842105263158, 349.17391304347825, 79.0, 174.77777777777777, 290.3333333333333, 8.695, 54.666666666666664, 247.4, 57.05882352941177, 846.0, 558.1052631578947, 998.0833333333334, 101.33333333333333, 502.42857142857144, 120.34328358208955, 85.0, 393.8, 548.5, 286.3703703703704, 491.2307692307692, 442.14285714285717, 108.2, 120.86666666666666, 462.86206896551727, 169.0, 136.25, 8.865714285714287, 84.7, 313.8333333333333, 102.0, 80.25, 104.04545454545455, 159.6818181818182, 151.0, 95.28571428571429, 56.714285714285715, 9.35, 665.0, 8.594999999999999, 265.7142857142857, 540.5714285714286, 205.0, 1609.0526315789473, 115.0, 651.5, 50.93333333333333, 98.85714285714286, 109.0, 200.0, 103.0, 7576.5, 260.0, 601.0, 80.0, 465.0, 920.6666666666666]\n",
      "['PFL', 'GBBL', 'CBBL', 'SWBBL', 'NICA', 'DBBL', 'GBLBS', 'EIC', 'BOKL', 'NMB', 'SMFBS', 'NUBL', 'LBL', 'NIB', 'SPDL', 'ALICL', 'NCCB', 'NLIC', 'NLBBL', 'SHIVM', 'HDL', 'BPCL', 'MEGA', 'SLICL', 'HURJA', 'EBL', 'RHPC', 'SPARS', 'PRVU', 'PLIC', 'ILBS', 'SHPC', 'FOWAD', 'PRIN', 'NIBSF1', 'NTC', 'STC', 'NABIL', 'DDBL', 'CZBIL', 'VLBS', 'JSLBB', 'NICL', 'NSEWA', 'GLICL', 'SANIMA', 'PIC', 'RBCL', 'HIDCL', 'RSDC', 'SKBBL', 'NIL', 'MFIL', 'JBBL', 'SLBSL', 'KBL', 'LGIL', 'MBL', 'CIT', 'OHL', 'CCBL', 'ADBL', 'NBL', 'UIC', 'NBB', 'SIL', 'SINDU', 'CBL', 'LBBL', 'PICL', 'NNLB', 'NLG', 'PCBL', 'GGBSL', 'NADEP', 'GILB', 'SHL', 'HGI', 'JFL', 'MNBBL', 'ICFC', 'MSMBS', 'UPPER', 'SJCL', 'KSBBL', 'UPCL', 'NMBMF', 'SCB', 'NGPL', 'CHCL', 'IGI', 'GMFBS', 'RHPL', 'GLBSL', 'NLICL', 'JOSHI', 'SABSL', 'NEF', 'CFCL', 'PROFL', 'SDESI', 'HPPL', 'NMFBS', 'SHINE', 'HBL', 'API', 'CLBSL', 'NHDL', 'RMDC', 'SRBL', 'LVF1', 'UMHL', 'UNHPL', 'SADBL', 'KPCL', 'RADHI', 'AHPC', 'SBI', 'CHL', 'MLBL', 'EDBL', 'NMBHF1', 'KKHC', 'MDB', 'AKJCL', 'SICL', 'MLBBL', 'LICN', 'GRDBL', 'SMB', 'SAPDBL', 'PMHPL', 'NIBPO', 'SLBBL', 'SBL', 'SIC', 'MERO', 'RLFL', 'AKPL', 'ALBSL', 'UFL', 'GFCL', 'SEF', 'BFC', 'FMDBL', 'CEFL', 'MHNL', 'PPCL', 'NFS', 'TMDBL', 'RRHP', 'DHPL', 'NICBF', 'LLBS', 'SAEF', 'TRH', 'SMATA', 'NMBPO', 'BBC', 'GMFIL', 'SMFDB', 'NHPC', 'KRBL', 'GUFL', 'PCBLP', 'MPFL', 'RBCLPO', 'ALICLP', 'EBLCP', 'BARUN', 'AKBSL', 'MSLB']\n"
     ]
    },
    {
     "data": {
      "image/png": "[encoded data removed]",
      "text/plain": [
       "<Figure size 432x288 with 1 Axes>"
      ]
     },
     "metadata": {
      "needs_background": "light"
     },
     "output_type": "display_data"
    },
    {
     "data": {
      "text/plain": [
       "<Figure size 7200x7200 with 0 Axes>"
      ]
     },
     "metadata": {},
     "output_type": "display_data"
    }
   ],
   "source": [
    "from matplotlib import pyplot as plt\n",
    "from statistics import mean \n",
    "import csv\n",
    "li=[]\n",
    "# Reading Csv fle data \n",
    "with open('stockmarketdata.csv', 'r') as f:\n",
    "    reader = csv.reader(f)\n",
    "    li= list(reader)\n",
    "\n",
    "print (len(li))\n",
    "final_list= []\n",
    "# removing blank space from retrived data \n",
    "for i in range(len(li)):\n",
    "    if i==0:\n",
    "        final_list.append(li[i])\n",
    "    elif i>0:\n",
    "        if i%2==0:\n",
    "            final_list.append(li[i])\n",
    "\n",
    "data_dict={}\n",
    "\n",
    "# format data_dict{'stock_symbol':[rate]}\n",
    "\n",
    "for i in range(1, len(final_list)):\n",
    "    \n",
    "    if final_list[i][0] in data_dict:\n",
    "        data_dict[final_list[i][0]].append(final_list[i][4])\n",
    "    else:\n",
    "        data_dict[final_list[i][0]] =[]\n",
    "        data_dict[final_list[i][0]].append(final_list[i][4])\n",
    "        \n",
    "symbols=[]\n",
    "rate=[]\n",
    "# finding symbol from dictionary in the form of key and sock average rate\n",
    "for key in data_dict.keys():\n",
    "    symbols.append(key)\n",
    "    for i in range(0, len(data_dict[key])): \n",
    "        data_dict[key][i] = float(data_dict[key][i]) \n",
    "    rate.append(mean(data_dict[key]))\n",
    "        \n",
    "print(rate)\n",
    "print(symbols)\n",
    "# Ploting the data in the\n",
    "\n",
    "\n",
    "\n",
    "\n",
    "plt.plot(symbols,rate,'g',label='stock Rate', linewidth=2)\n",
    "\n",
    "plt.title('Stock Monitor ')\n",
    "plt.ylabel('Average Rate of the share')\n",
    "plt.xlabel('Stock Names')\n",
    "plt.legend()\n",
    "# plt.grid()\n",
    "plt.figure(figsize=(100,100))\n",
    "plt.show()   \n",
    "        \n",
    "\n"
   ]
  },
  {
   "cell_type": "code",
   "execution_count": null,
   "metadata": {},
   "outputs": [],
   "source": []
  }
 ],
 "metadata": {
  "kernelspec": {
   "display_name": "Python 3",
   "language": "python",
   "name": "python3"
  },
  "language_info": {
   "codemirror_mode": {
    "name": "ipython",
    "version": 3
   },
   "file_extension": ".py",
   "mimetype": "text/x-python",
   "name": "python",
   "nbconvert_exporter": "python",
   "pygments_lexer": "ipython3",
   "version": "3.7.4"
  }
 },
 "nbformat": 4,
 "nbformat_minor": 2
}
